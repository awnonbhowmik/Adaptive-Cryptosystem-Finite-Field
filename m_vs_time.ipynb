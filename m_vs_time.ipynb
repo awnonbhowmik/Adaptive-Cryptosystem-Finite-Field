{
 "cells": [
  {
   "cell_type": "code",
   "execution_count": 1,
   "metadata": {},
   "outputs": [],
   "source": [
    "# m vs time for fixed stringlength (m in powers of 2 for table till 1024)"
   ]
  },
  {
   "cell_type": "code",
   "execution_count": 2,
   "metadata": {},
   "outputs": [],
   "source": [
    "import sympy\n",
    "import random\n",
    "import time\n",
    "from scipy.special import lambertw\n",
    "import numpy as np\n",
    "\n",
    "\n",
    "def egcd(a, b):\n",
    "    x,y, u,v = 0,1, 1,0\n",
    "    while a != 0:\n",
    "        q, r = b//a, b%a\n",
    "        m, n = x-u*q, y-v*q\n",
    "        b,a, x,y, u,v = a,r, u,v, m,n\n",
    "    return b, x, y\n",
    "\n",
    "def mod_inverse(a, m):\n",
    "    g, x, _ = egcd(a, m)\n",
    "    if g != 1:\n",
    "        return None  \n",
    "    else:\n",
    "        return x % m\n",
    "\n",
    "def padding(plain_text,block_size):\n",
    "    plain_text += '0'*(block_size-len(plain_text))\n",
    "    return plain_text\n",
    "\n",
    "def chunkstring(string, length):\n",
    "    return list(string[0+i:length+i] for i in range(0, len(string), length))\n",
    "\n",
    "def Rotate(lists, num): # Right is default\n",
    "    output_list = []       \n",
    "    for item in range(len(lists) - num, len(lists)): \n",
    "        output_list.append(lists[item])       \n",
    "    for item in range(0, len(lists) - num):  \n",
    "        output_list.append(lists[item]) \n",
    "    return output_list \n",
    "\n",
    "def evolve_primes_list(sample,shift_factor):\n",
    "    right = sample[len(sample)//2+1:]\n",
    "    left = sample[:len(sample)//2]\n",
    "    rotated_right = Rotate(right,num=shift_factor%len(right))\n",
    "    rotated_left = Rotate(left,num=len(left)-(shift_factor%len(left)))\n",
    "    rotated_left.append(sample[len(sample)//2])\n",
    "    final = rotated_left + rotated_right\n",
    "    return final\n",
    "\n",
    "def calculate_blocksize(n):\n",
    "    num = int(np.sqrt(n))\n",
    "    if num**2<n**2:\n",
    "        return int(np.sqrt(num**2))\n",
    "    else:\n",
    "        return(-1)\n",
    "\n",
    "def get_prime_list_permutations(prime_list,num_blocks):\n",
    "    primes_list_permutations = []\n",
    "    for shift_factor in range(num_blocks):\n",
    "        temp = evolve_primes_list(prime_list,shift_factor%len(prime_list))\n",
    "        if shift_factor > num_blocks//2:\n",
    "            temp = temp[:num_blocks//2+shift_factor]\n",
    "        # print(temp)\n",
    "        primes_list_permutations.append(temp)\n",
    "    return primes_list_permutations"
   ]
  },
  {
   "cell_type": "code",
   "execution_count": 3,
   "metadata": {},
   "outputs": [],
   "source": [
    "m_vals = [1,2,4,8,16,32,64,128,256,512,1024]\n",
    "time_taken = []"
   ]
  },
  {
   "cell_type": "code",
   "execution_count": 4,
   "metadata": {},
   "outputs": [
    {
     "name": "stdout",
     "output_type": "stream",
     "text": [
      "Blocksize =  31\n",
      "m = 1 -------------- Operation Runtime : 0.0018422603607177734 seconds\n",
      "m = 2 -------------- Operation Runtime : 0.001878976821899414 seconds\n",
      "m = 4 -------------- Operation Runtime : 0.002119779586791992 seconds\n",
      "m = 8 -------------- Operation Runtime : 0.002096414566040039 seconds\n",
      "m = 16 -------------- Operation Runtime : 0.0022907257080078125 seconds\n",
      "m = 32 -------------- Operation Runtime : 0.002521991729736328 seconds\n",
      "m = 64 -------------- Operation Runtime : 0.0029687881469726562 seconds\n",
      "m = 128 -------------- Operation Runtime : 0.003992319107055664 seconds\n",
      "m = 256 -------------- Operation Runtime : 0.006209373474121094 seconds\n",
      "m = 512 -------------- Operation Runtime : 0.012920141220092773 seconds\n",
      "m = 1024 -------------- Operation Runtime : 0.03332209587097168 seconds\n"
     ]
    }
   ],
   "source": [
    "plaintext = 'abcdefghij'*100\n",
    "blocksize = calculate_blocksize(len(plaintext))\n",
    "if blocksize%2 == 0:\n",
    "    blocksize -= 1\n",
    "\n",
    "print('Blocksize = ',blocksize)\n",
    "\n",
    "for m in m_vals:\n",
    "    plain_text_chunks = []\n",
    "    if len(plaintext) < blocksize:\n",
    "        plain_text_chunks.append(padding(plaintext,blocksize))\n",
    "    else:\n",
    "        chunks = chunkstring(plaintext,blocksize)\n",
    "        for i in range(len(chunks)):\n",
    "            plain_text_chunks.append(padding(chunks[i],blocksize))\n",
    "\n",
    "    ascii_chunks = []\n",
    "    for chunk in plain_text_chunks:\n",
    "        t = []\n",
    "        for i in chunk:\n",
    "            t.append(ord(i))\n",
    "        ascii_chunks.append(t)\n",
    "    num_blocks = len(ascii_chunks)\n",
    "\n",
    "    # Fixing the value of q based on blocksize using prime number theory\n",
    "    n = np.exp(-lambertw(-1/blocksize,k=-1))\n",
    "    n = int(n.real)\n",
    "    q = sympy.ntheory.generate.nextprime(n,ith=1)\n",
    "\n",
    "    prime_list = []\n",
    "    count = 0\n",
    "    temp = []\n",
    "    while True:\n",
    "        if count == blocksize:\n",
    "            break\n",
    "        p = sympy.prime(random.randint(1,blocksize))\n",
    "        if p not in prime_list and mod_inverse(p,q**m)!=None:\n",
    "            prime_list.append(p)\n",
    "            count += 1\n",
    "\n",
    "    prime_list_permutations = get_prime_list_permutations(prime_list,num_blocks)\n",
    "\n",
    "    t1 = time.time()\n",
    "\n",
    "    encrypted_cipher = []\n",
    "    for chunk in range(len(ascii_chunks)):\n",
    "        cipher = []\n",
    "        for c in range(len(ascii_chunks[chunk])):\n",
    "            cipher.append((ascii_chunks[chunk][c]*prime_list_permutations[chunk][c])%(q**m))\n",
    "        encrypted_cipher.append(cipher)\n",
    "\n",
    "    decrypted_ascii_chunks = []\n",
    "    for chunk in range(len(encrypted_cipher)):\n",
    "        temp_ascii = []\n",
    "        for k in range(len(encrypted_cipher[chunk])):\n",
    "            temp_ascii.append((encrypted_cipher[chunk][k]*mod_inverse(prime_list_permutations[chunk][k],q**m))%q**m)\n",
    "        decrypted_ascii_chunks.append(temp_ascii)\n",
    "\n",
    "    decrypted_text_list = []\n",
    "    for chunk in decrypted_ascii_chunks:\n",
    "        for i in chunk:\n",
    "            if chr(i)!='0':\n",
    "                decrypted_text_list.append(chr(i))\n",
    "    tt = time.time()-t1\n",
    "    time_taken.append(tt)\n",
    "    print('m = '+ str(m) + ' -------------- Operation Runtime : {} seconds'.format(tt))"
   ]
  },
  {
   "cell_type": "code",
   "execution_count": 5,
   "metadata": {},
   "outputs": [
    {
     "data": {
      "text/plain": [
       "Text(0, 0.5, 'Runtime (seconds)')"
      ]
     },
     "execution_count": 5,
     "metadata": {},
     "output_type": "execute_result"
    },
    {
     "data": {
      "image/png": "[encoded data removed]",
      "text/plain": [
       "<Figure size 432x288 with 1 Axes>"
      ]
     },
     "metadata": {
      "needs_background": "light"
     },
     "output_type": "display_data"
    }
   ],
   "source": [
    "import matplotlib.pyplot as plt\n",
    "%matplotlib inline\n",
    "plt.figure()\n",
    "plt.plot(m_vals, time_taken)\n",
    "plt.xlabel('m values')\n",
    "plt.ylabel('Runtime (seconds)')"
   ]
  }
 ],
 "metadata": {
  "kernelspec": {
   "display_name": "Python 3",
   "language": "python",
   "name": "python3"
  },
  "language_info": {
   "codemirror_mode": {
    "name": "ipython",
    "version": 3
   },
   "file_extension": ".py",
   "mimetype": "text/x-python",
   "name": "python",
   "nbconvert_exporter": "python",
   "pygments_lexer": "ipython3",
   "version": "3.8.2"
  }
 },
 "nbformat": 4,
 "nbformat_minor": 4
}
